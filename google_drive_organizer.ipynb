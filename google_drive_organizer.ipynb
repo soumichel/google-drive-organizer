{
  "nbformat": 4,
  "nbformat_minor": 0,
  "metadata": {
    "colab": {
      "provenance": []
    },
    "kernelspec": {
      "name": "python3",
      "display_name": "Python 3"
    },
    "language_info": {
      "name": "python"
    }
  },
  "cells": [
    {
      "cell_type": "markdown",
      "source": [
        "## 🔐 Step 1 - Mounting Google Drive\n",
        "\n",
        "Run the code below to authorize Colab to access your Google Drive.\n",
        "\n",
        "Once mounted, your files will be accessible at:  \n",
        "`/content/drive/MyDrive/`\n",
        "\n",
        "---\n",
        "\n",
        "## 🔐 Etapa 1 - Montagem do Google Drive\n",
        "\n",
        "Execute o código abaixo para autorizar o acesso do Colab ao seu Google Drive.\n",
        "\n",
        "Após montar, seus arquivos estarão acessíveis pelo caminho:  \n",
        "`/content/drive/MyDrive/`\n",
        "\n",
        "> ⚠️ Mesmo com o idioma da conta em português, o caminho técnico utilizado pelo Colab é `\"MyDrive\"`.\n"
      ],
      "metadata": {
        "id": "2QXPFKZNXDhZ"
      }
    },
    {
      "cell_type": "code",
      "execution_count": null,
      "metadata": {
        "id": "M6yVx3GmLwBi"
      },
      "outputs": [],
      "source": [
        "from google.colab import drive\n",
        "drive.mount('/content/drive')"
      ]
    },
    {
      "cell_type": "markdown",
      "source": [
        "## 🔧 Step 2 - File Handling Functions\n",
        "\n",
        "Here we define helper functions that will be used in the file organization process:\n",
        "\n",
        "- Classify files by type;\n",
        "- Classify files by size (small, medium, large, huge);\n",
        "- Get the date of last modification;\n",
        "- Dynamically create folders based on the chosen criteria;\n",
        "- Move files to the appropriate folders.\n",
        "\n",
        "These functions are used by the main organization functions, which are described in the next step.\n",
        "\n",
        "---\n",
        "\n",
        "## 🔧 Etapa 2 - Funções para tratar arquivos\n",
        "\n",
        "Aqui definimos funções auxiliares que serão usadas no processo de organização:\n",
        "\n",
        "- Classificar arquivos por tipo;\n",
        "- Classificar arquivos por tamanho (pequenos, médios, grandes, enormes);\n",
        "- Obter a data da última modificação;\n",
        "- Criar pastas dinamicamente conforme os critérios escolhidos;\n",
        "- Mover os arquivos para as pastas corretas.\n",
        "\n",
        "Essas funções são utilizadas pelas funções principais de organização, descritas na próxima etapa.\n"
      ],
      "metadata": {
        "id": "MLOXzwvzXMm7"
      }
    },
    {
      "cell_type": "code",
      "source": [
        "import os, shutil, datetime\n",
        "\n",
        "def create_folder(path):\n",
        "    if not os.path.exists(path):\n",
        "        os.makedirs(path)\n",
        "        print(f\"📁 Folder created: {path}\")\n",
        "\n",
        "def move_file(file_path, dest_folder):\n",
        "    try:\n",
        "        shutil.move(file_path, dest_folder)\n",
        "        print(f\"✅ '{os.path.basename(file_path)}' moved to '{dest_folder}'\")\n",
        "    except Exception as e:\n",
        "        print(f\"❌ Error while moving '{file_path}': {e}\")"
      ],
      "metadata": {
        "id": "MgOPfJOBXXGV"
      },
      "execution_count": null,
      "outputs": []
    },
    {
      "cell_type": "markdown",
      "source": [
        "## 🧠 Step 3 - Main Organization Functions (by separate criteria)\n",
        "\n",
        "The main organization functions are separated by criteria, allowing greater control and clarity in the process:\n",
        "\n",
        "- `organize_by_type()`: groups files into categories such as Images, Documents, Videos, Music, and Others, based on the file type identified by the name.\n",
        "\n",
        "- `organize_by_size()`: groups files into folders by size range: Small (<1MB), Medium, Large, Huge (>100MB).\n",
        "\n",
        "- `organize_by_date()`: creates subfolders in the format YYYY-MM based on the last modification date of each file.\n",
        "\n",
        "- `organize_by_keyword()`: groups files based on user-defined keywords found in the file names (e.g., \"exam\", \"list\", \"assignment\").\n",
        "\n",
        "> ⚠️ Although it is technically possible to run multiple organization functions in sequence, it is not recommended. Each function moves files into a new structure, which can disrupt the previous organization.\n",
        "\n",
        "> If you want to apply more than one criterion, it’s best to do it manually and in a planned way, or use a custom function that combines multiple criteria hierarchically (e.g., type → date).\n",
        "\n",
        "> 📂 You can and should choose a specific folder (and its subfolders) to organize. You don’t need to apply the function to the root of your Drive (`/MyDrive`), unless you want to reorganize everything. All files within the selected folder and its subfolders will be reorganized based on the chosen criterion.\n",
        "\n",
        "---\n",
        "\n",
        "## 🧠 Etapa 3 - Funções principais de organização (por critério separado)\n",
        "\n",
        "As funções principais de organização estão separadas por critério, permitindo maior controle e clareza no processo:\n",
        "\n",
        "- `organizar_por_tipo()`: agrupa arquivos em categorias como Imagens, Documentos, Vídeos, Músicas e Outros, com base no tipo de arquivo identificado pelo nome.\n",
        "\n",
        "- `organizar_por_tamanho()`: agrupa arquivos em pastas por faixa de tamanho: Pequenos (<1MB), Médios, Grandes, Gigantes (>100MB).\n",
        "\n",
        "- `organizar_por_data()`: cria subpastas no formato AAAA-MM com base na data da última modificação de cada arquivo.\n",
        "\n",
        "- `organizar_por_palavra_chave()`: agrupa arquivos com base em palavras-chave definidas pelo usuário no nome dos arquivos (ex: \"prova\", \"lista\", \"trabalho\").\n",
        "\n",
        "> ⚠️ Embora seja tecnicamente possível executar duas ou mais funções de organização em sequência, não é recomendado. Isso porque cada função move os arquivos para uma estrutura diferente, o que pode quebrar a organização feita anteriormente.\n",
        "\n",
        "> Se quiser aplicar mais de um critério, o ideal é fazer isso de forma planejada e manual, ou utilizar uma função personalizada que combine os critérios hierarquicamente (ex: tipo → data).\n",
        "\n",
        "> 📂 Você pode (e deve) escolher uma pasta específica para organizar (e suas subpastas). Não é necessário aplicar as funções na raiz do seu Drive (`/MyDrive`), a menos que deseje reorganizar absolutamente tudo. Todos os arquivos da pasta selecionada e suas subpastas serão reorganizados com base no critério escolhido.\n"
      ],
      "metadata": {
        "id": "2kNXD6LoXXoV"
      }
    },
    {
      "cell_type": "code",
      "source": [
        "def identify_type(file_name):\n",
        "    file_type = file_name.lower()\n",
        "    if any(file_type.endswith(ext) for ext in ['jpg', 'jpeg', 'png', 'gif']): return 'Images'\n",
        "    elif any(file_type.endswith(ext) for ext in ['pdf', 'docx', 'doc', 'txt', 'xlsx', 'xls', 'gdoc', 'gsheet', 'gslides']): return 'Documents'\n",
        "    elif any(file_type.endswith(ext) for ext in ['mp4', 'mov', 'avi']): return 'Videos'\n",
        "    elif any(file_type.endswith(ext) for ext in ['mp3', 'wav']): return 'Music'\n",
        "    else:\n",
        "        return 'Others'\n",
        "\n",
        "def organize_by_type(path):\n",
        "    for root, _, files in os.walk(path):\n",
        "        if any(root.endswith(p) for p in ['Images', 'Documents', 'Videos', 'Music', 'Others']): continue\n",
        "        for file in files:\n",
        "            full_path = os.path.join(root, file)\n",
        "            if os.path.isfile(full_path):\n",
        "                file_type = identify_type(file)\n",
        "                destination = os.path.join(path, file_type)\n",
        "                create_folder(destination)\n",
        "                move_file(full_path, destination)"
      ],
      "metadata": {
        "id": "hjAk3VhpXcQ9"
      },
      "execution_count": null,
      "outputs": []
    },
    {
      "cell_type": "code",
      "source": [
        "def classify_size(size_bytes):\n",
        "    mb = size_bytes / (1024 * 1024)\n",
        "    if mb < 1: return 'Small'\n",
        "    elif mb < 10: return 'Medium'\n",
        "    elif mb < 100: return 'Large'\n",
        "    else:\n",
        "        return 'Huge'\n",
        "\n",
        "def organize_by_size(path):\n",
        "    for root, _, files in os.walk(path):\n",
        "        if any(root.endswith(p) for p in ['Small', 'Medium', 'Large', 'Huge']): continue\n",
        "        for file in files:\n",
        "            full_path = os.path.join(root, file)\n",
        "            if os.path.isfile(full_path):\n",
        "                size_category = classify_size(os.path.getsize(full_path))\n",
        "                destination = os.path.join(path, size_category)\n",
        "                create_folder(destination)\n",
        "                move_file(full_path, destination)"
      ],
      "metadata": {
        "id": "dleaR772Dykq"
      },
      "execution_count": null,
      "outputs": []
    },
    {
      "cell_type": "code",
      "source": [
        "def get_date_folder(full_path):\n",
        "    modified_at = datetime.datetime.fromtimestamp(os.path.getmtime(full_path))\n",
        "    return modified_at.strftime('%Y-%m')\n",
        "\n",
        "def organize_by_date(path):\n",
        "    for root, _, files in os.walk(path):\n",
        "        if any(len(folder) == 7 and folder[4] == '-' for folder in root.split(os.sep)): continue\n",
        "        for file in files:\n",
        "            full_path = os.path.join(root, file)\n",
        "            if os.path.isfile(full_path):\n",
        "                date_folder = get_date_folder(full_path)\n",
        "                destination = os.path.join(path, date_folder)\n",
        "                create_folder(destination)\n",
        "                move_file(full_path, destination)"
      ],
      "metadata": {
        "id": "fLgTnNdWD3o1"
      },
      "execution_count": null,
      "outputs": []
    },
    {
      "cell_type": "code",
      "source": [
        "def organize_by_keyword(path, keywords):\n",
        "    # IMPORTANT: Ensure that 'keywords' list is not empty and contains relevant keywords\n",
        "    # for the code to correctly categorize files based on their names.\n",
        "    for root, _, files in os.walk(path):\n",
        "        if any(root.endswith(palavra) for palavra in keywords) or root.endswith(\"Others\"): continue\n",
        "        for file in files:\n",
        "            name = file.lower()\n",
        "            full_path = os.path.join(root, file)\n",
        "            if not os.path.isfile(full_path): continue\n",
        "            found = False\n",
        "            for keyword in keywords:\n",
        "                if keyword.lower() in name:\n",
        "                    destination = os.path.join(path, keyword)\n",
        "                    create_folder(destination)\n",
        "                    move_file(full_path, destination)\n",
        "                    found = True\n",
        "                    break\n",
        "            if not found:\n",
        "                destination = os.path.join(path, \"Others\")\n",
        "                create_folder(destination)\n",
        "                move_file(full_path, destination)"
      ],
      "metadata": {
        "id": "p11qN51ED6dl"
      },
      "execution_count": null,
      "outputs": []
    },
    {
      "cell_type": "markdown",
      "source": [
        "## ▶️ Step 4 - Execute\n",
        "\n",
        "Choose one or more organization functions to run and organize the files inside a specific folder in your Google Drive.\n",
        "\n",
        "You can use, for example:\n",
        "\n",
        "- `organize_by_type(\"/content/drive/MyDrive/Projects\")`\n",
        "\n",
        "- `organize_by_size(\"/content/drive/MyDrive/Downloads\")`\n",
        "\n",
        "- `organize_by_date(\"/content/drive/MyDrive/Tasks\")`\n",
        "\n",
        "- `organize_by_keyword(\"/content/drive/MyDrive/Backup\", [\"exam\", \"list\", \"assignment\"])`\n",
        "\n",
        "> ✅ Tip: replace the path `/content/drive/MyDrive` with the specific folder you want to organize. This keeps the process safer and more controlled, without reorganizing everything.\n",
        "\n",
        "---\n",
        "\n",
        "## ▶️ Etapa 4 - Executar\n",
        "\n",
        "Escolha uma ou mais funções de organização para executar e organizar os arquivos dentro de uma pasta específica do seu Google Drive.\n",
        "\n",
        "Você pode usar, por exemplo:\n",
        "\n",
        "- `organizar_por_tipo(\"/content/drive/MyDrive/Trabalhos\")`\n",
        "\n",
        "- `organizar_por_tamanho(\"/content/drive/MyDrive/Downloads\")`\n",
        "\n",
        "- `organizar_por_data(\"/content/drive/MyDrive/Projetos\")`\n",
        "\n",
        "- `organizar_por_palavra_chave(\"/content/drive/MyDrive/Backup\", [\"prova\", \"lista\", \"trabalho\"])`\n",
        "\n",
        "> ✅ Dica: substitua o caminho `/content/drive/MyDrive` pela pasta que você quer organizar. Isso torna o processo mais seguro e controlado, sem reorganizar arquivos desnecessários.\n"
      ],
      "metadata": {
        "id": "6xJ97J-lXc3M"
      }
    },
    {
      "cell_type": "code",
      "source": [
        "my_drive = \"/content/drive/MyDrive\"\n",
        "\n",
        "# WARNING: uncomment to execute!\n",
        "\n",
        "# organize_by_type(my_drive)\n",
        "# organize_by_size(my_drive)\n",
        "# organize_by_date(my_drive)\n",
        "# organize_by_keyword(my_drive, [\"prova\", \"lista\", \"trabalho\"])  # customizable list/lista personalizável"
      ],
      "metadata": {
        "id": "5NKTCUAGYiR-"
      },
      "execution_count": null,
      "outputs": []
    }
  ]
}